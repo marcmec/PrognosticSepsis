{
  "cells": [
    {
      "cell_type": "markdown",
      "metadata": {
        "id": "view-in-github",
        "colab_type": "text"
      },
      "source": [
        "<a href=\"https://colab.research.google.com/github/marcmec/PrognosticSepsis/blob/main/Visualizacao_de_dados.ipynb\" target=\"_parent\"><img src=\"https://colab.research.google.com/assets/colab-badge.svg\" alt=\"Open In Colab\"/></a>"
      ]
    },
    {
      "cell_type": "code",
      "execution_count": 1,
      "metadata": {
        "id": "X7ordwn8u1Zz"
      },
      "outputs": [],
      "source": [
        "import pandas as pd \n",
        "import io \n",
        "from google.colab import files \n",
        "import csv\n",
        "import plotly.graph_objects as go\n",
        "import numpy as np\n",
        "from sklearn.datasets import make_moons\n",
        "from sklearn.model_selection import train_test_split\n",
        "from sklearn.neighbors import KNeighborsClassifier\n",
        "import matplotlib.pyplot as plt\n",
        "from math import e\n",
        "from sklearn.linear_model import LogisticRegression\n",
        "from sklearn import metrics\n",
        "import seaborn as sn\n",
        "import plotly.express as px\n",
        "from sklearn.preprocessing import StandardScaler\n",
        "from sklearn import svm\n",
        "from sklearn.datasets import make_blobs, make_circles\n",
        "from sklearn.metrics import classification_report, confusion_matrix,plot_confusion_matrix\n",
        "from sklearn.model_selection import cross_val_score\n",
        "from sklearn.preprocessing import label_binarize\n"
      ]
    },
    {
      "cell_type": "code",
      "execution_count": 2,
      "metadata": {
        "id": "ZCLSG9HiLX9o"
      },
      "outputs": [],
      "source": [
        "pd.set_option('display.max_rows', None)\n"
      ]
    },
    {
      "cell_type": "code",
      "execution_count": 3,
      "metadata": {
        "id": "mJswYitGsMb1"
      },
      "outputs": [],
      "source": [
        "apacheAdmit = pd.read_csv('apacheMaisAdmitTime.csv')"
      ]
    },
    {
      "cell_type": "code",
      "execution_count": null,
      "metadata": {
        "id": "Nbm7QBMewgnw"
      },
      "outputs": [],
      "source": [
        "print(apacheAdmit)"
      ]
    },
    {
      "cell_type": "code",
      "execution_count": 4,
      "metadata": {
        "id": "9itWyslmtVK9"
      },
      "outputs": [],
      "source": [
        "apacheAdmit = apacheAdmit.replace(to_replace = ['ALIVE','EXPIRED'],value = ['1','0'])"
      ]
    },
    {
      "cell_type": "code",
      "execution_count": 5,
      "metadata": {
        "id": "hevt8X5FxUXb"
      },
      "outputs": [],
      "source": [
        "apacheAdmit = apacheAdmit.replace(to_replace = ['Male','Female'],value = ['1','0'])"
      ]
    },
    {
      "cell_type": "code",
      "source": [
        "apacheAdmit = apacheAdmit.replace(to_replace = ['> 89'],value = ['90'])"
      ],
      "metadata": {
        "id": "sDks4eJEl9WW"
      },
      "execution_count": 6,
      "outputs": []
    },
    {
      "cell_type": "code",
      "source": [
        "print(apacheAdmit)"
      ],
      "metadata": {
        "id": "Hx5tYpQTehcN"
      },
      "execution_count": null,
      "outputs": []
    },
    {
      "cell_type": "code",
      "source": [
        "apacheAdmit.loc[apacheAdmit['hospitaldischargeoffset'] > 2880, 'hospitaldischargeoffset'] = '1'"
      ],
      "metadata": {
        "id": "QEafKOGgcKrn"
      },
      "execution_count": 7,
      "outputs": []
    },
    {
      "cell_type": "code",
      "source": [
        "print(apacheAdmit)"
      ],
      "metadata": {
        "id": "8xeek9O-tRBq"
      },
      "execution_count": null,
      "outputs": []
    },
    {
      "cell_type": "code",
      "source": [
        "apacheAdmit.loc[(apacheAdmit['hospitaldischargeoffset'] != '1'), 'hospitaldischargeoffset'] = '0'"
      ],
      "metadata": {
        "id": "QwdJZ9ShdnDd"
      },
      "execution_count": 8,
      "outputs": []
    },
    {
      "cell_type": "code",
      "execution_count": null,
      "metadata": {
        "id": "dkTYO7GxsiP3"
      },
      "outputs": [],
      "source": [
        "print(apacheAdmit)"
      ]
    },
    {
      "cell_type": "code",
      "execution_count": 9,
      "metadata": {
        "id": "s_2b83kzbtrb"
      },
      "outputs": [],
      "source": [
        "txLogit = -32.6659 + np.log(apacheAdmit['acutephysiologyscore'] +20.5958)*7.3068"
      ]
    },
    {
      "cell_type": "code",
      "execution_count": 10,
      "metadata": {
        "id": "8wcQrJ1NlFHM"
      },
      "outputs": [],
      "source": [
        "txMortality= e**txLogit/(1+e**txLogit)"
      ]
    },
    {
      "cell_type": "code",
      "execution_count": null,
      "metadata": {
        "id": "SIRLo5BncJMB"
      },
      "outputs": [],
      "source": [
        "print(txMortality)"
      ]
    },
    {
      "cell_type": "code",
      "execution_count": 11,
      "metadata": {
        "id": "hSTeHE0Vtv1I"
      },
      "outputs": [],
      "source": [
        "apacheAdmit.insert(7,'txMortality',txMortality)"
      ]
    },
    {
      "cell_type": "code",
      "execution_count": null,
      "metadata": {
        "id": "c5kpqyFrwVoz"
      },
      "outputs": [],
      "source": [
        "print(apacheAdmit)"
      ]
    },
    {
      "cell_type": "code",
      "execution_count": 12,
      "metadata": {
        "id": "88XlOsxFR6Hr"
      },
      "outputs": [],
      "source": [
        "# X = apacheAdmit[[\"actualhospitalmortality\",'txMortality']]\n",
        "# y = apacheAdmit['hospitaldischargeoffset']\n",
        "X = apacheAdmit[[\"actualhospitalmortality\",\"gender\",'txMortality']]\n",
        "y = apacheAdmit['hospitaldischargeoffset']\n",
        "# # X = apacheAdmit[[\"hospitaldischargeoffset\",\"gender\",'txMortality']]\n",
        "# # y = apacheAdmit['actualhospitalmortality']\n",
        "# X = apacheAdmit[[\"hospitaldischargeoffset\",'txMortality']]\n",
        "# y = apacheAdmit['actualhospitalmortality']\n",
        "\n",
        "\n",
        "X_train, X_test, y_train, y_test = train_test_split(X, y, test_size=0.3)"
      ]
    },
    {
      "cell_type": "code",
      "execution_count": 13,
      "metadata": {
        "colab": {
          "base_uri": "https://localhost:8080/"
        },
        "id": "lZmgkttDSkQM",
        "outputId": "fb48c192-7cde-465c-c8f9-e46062716b76"
      },
      "outputs": [
        {
          "output_type": "execute_result",
          "data": {
            "text/plain": [
              "LogisticRegression()"
            ]
          },
          "metadata": {},
          "execution_count": 13
        }
      ],
      "source": [
        "logistic_regression= LogisticRegression()\n",
        "logistic_regression.fit(X_train,y_train)"
      ]
    },
    {
      "cell_type": "code",
      "execution_count": 14,
      "metadata": {
        "id": "OgJmSzflVkfY"
      },
      "outputs": [],
      "source": [
        "logistic_regression= LogisticRegression()\n",
        "logistic_regression.fit(X_train,y_train)\n",
        "y_predrl=logistic_regression.predict(X_test)"
      ]
    },
    {
      "cell_type": "code",
      "source": [
        "# plot_confusion_matrix(logistic_regression, X_test, y_test)  \n",
        "metrics.ConfusionMatrixDisplay.from_predictions(y_test, y_predrl)\n",
        "plt.show()\n"
      ],
      "metadata": {
        "colab": {
          "base_uri": "https://localhost:8080/",
          "height": 279
        },
        "id": "kXrOf2fC1HIF",
        "outputId": "74bb4cc6-5951-4d9c-ff7f-b74fe2d95411"
      },
      "execution_count": 15,
      "outputs": [
        {
          "output_type": "display_data",
          "data": {
            "text/plain": [
              "<Figure size 432x288 with 2 Axes>"
            ],
            "image/png": "[encoded data removed]"
          },
          "metadata": {
            "needs_background": "light"
          }
        }
      ]
    },
    {
      "cell_type": "code",
      "execution_count": 16,
      "metadata": {
        "id": "pVkq0gYbVt7B",
        "colab": {
          "base_uri": "https://localhost:8080/"
        },
        "outputId": "97565119-d9fb-4027-ba00-4057a55cb4a6"
      },
      "outputs": [
        {
          "output_type": "stream",
          "name": "stdout",
          "text": [
            "Accuracy:  0.8888888888888888\n"
          ]
        }
      ],
      "source": [
        "print('Accuracy: ',metrics.accuracy_score(y_test, y_predrl))\n",
        "plt.show()"
      ]
    },
    {
      "cell_type": "code",
      "source": [
        "logistic_regression.score(X,y)"
      ],
      "metadata": {
        "id": "Py5ASU6Spy94"
      },
      "execution_count": null,
      "outputs": []
    },
    {
      "cell_type": "code",
      "execution_count": 18,
      "metadata": {
        "id": "WzmSg8og3fS4",
        "colab": {
          "base_uri": "https://localhost:8080/"
        },
        "outputId": "a4031a7c-7faf-4d3a-c38c-5861f77505ae"
      },
      "outputs": [
        {
          "output_type": "execute_result",
          "data": {
            "text/plain": [
              "StandardScaler()"
            ]
          },
          "metadata": {},
          "execution_count": 18
        }
      ],
      "source": [
        "scaler = StandardScaler()\n",
        "scaler.fit(X_train)\n"
      ]
    },
    {
      "cell_type": "code",
      "execution_count": 19,
      "metadata": {
        "id": "ZptvF6Sd3cM_"
      },
      "outputs": [],
      "source": [
        "X_train = scaler.transform(X_train)\n",
        "X_test = scaler.transform(X_test)"
      ]
    },
    {
      "cell_type": "code",
      "execution_count": 20,
      "metadata": {
        "id": "q0rjCncC3m7X",
        "colab": {
          "base_uri": "https://localhost:8080/"
        },
        "outputId": "6db179d8-5924-4037-bb5c-87befd36b934"
      },
      "outputs": [
        {
          "output_type": "execute_result",
          "data": {
            "text/plain": [
              "KNeighborsClassifier(n_neighbors=3)"
            ]
          },
          "metadata": {},
          "execution_count": 20
        }
      ],
      "source": [
        "knn_class = KNeighborsClassifier(n_neighbors=3)\n",
        "knn_class.fit(X_train, y_train)"
      ]
    },
    {
      "cell_type": "code",
      "execution_count": 21,
      "metadata": {
        "id": "zE0laBrN3pw-"
      },
      "outputs": [],
      "source": [
        "y_pred_knn = knn_class.predict(X_test)"
      ]
    },
    {
      "cell_type": "code",
      "source": [
        "print(y_pred_knn)"
      ],
      "metadata": {
        "id": "QnKMGsa9ma61"
      },
      "execution_count": null,
      "outputs": []
    },
    {
      "cell_type": "code",
      "source": [
        "knn_class.score(X,y)"
      ],
      "metadata": {
        "id": "F_goAehAUniR",
        "colab": {
          "base_uri": "https://localhost:8080/"
        },
        "outputId": "4a7834b5-e24b-4dc3-ee18-2a7ccca4aa1a"
      },
      "execution_count": 22,
      "outputs": [
        {
          "output_type": "stream",
          "name": "stderr",
          "text": [
            "/usr/local/lib/python3.7/dist-packages/sklearn/base.py:444: UserWarning: X has feature names, but KNeighborsClassifier was fitted without feature names\n",
            "  f\"X has feature names, but {self.__class__.__name__} was fitted without\"\n"
          ]
        },
        {
          "output_type": "execute_result",
          "data": {
            "text/plain": [
              "0.8757062146892656"
            ]
          },
          "metadata": {},
          "execution_count": 22
        }
      ]
    },
    {
      "cell_type": "code",
      "execution_count": 23,
      "metadata": {
        "id": "Aqqevd7o3tVR",
        "colab": {
          "base_uri": "https://localhost:8080/",
          "height": 440
        },
        "outputId": "5813d732-dc32-49b6-f421-b66de1fd7163"
      },
      "outputs": [
        {
          "output_type": "display_data",
          "data": {
            "text/plain": [
              "<Figure size 432x288 with 2 Axes>"
            ],
            "image/png": "[encoded data removed]"
          },
          "metadata": {
            "needs_background": "light"
          }
        },
        {
          "output_type": "stream",
          "name": "stdout",
          "text": [
            "              precision    recall  f1-score   support\n",
            "\n",
            "           0       0.17      0.17      0.17         6\n",
            "           1       0.90      0.90      0.90        48\n",
            "\n",
            "    accuracy                           0.81        54\n",
            "   macro avg       0.53      0.53      0.53        54\n",
            "weighted avg       0.81      0.81      0.81        54\n",
            "\n"
          ]
        }
      ],
      "source": [
        "# plot_confusion_matrix(knn_class, X_test, y_test)\n",
        "metrics.ConfusionMatrixDisplay.from_predictions(y_test, y_pred_knn)\n",
        "\n",
        "plt.show()\n",
        "print(classification_report(y_test, y_pred_knn))"
      ]
    },
    {
      "cell_type": "code",
      "execution_count": null,
      "metadata": {
        "id": "gfQIiS0U9SB6"
      },
      "outputs": [],
      "source": [
        "trace_specs = [\n",
        "    [X_train, y_train, '0', 'Train', 'square'],\n",
        "    [X_train, y_train, '1', 'Train', 'circle'],\n",
        "    [X_test, y_test, '0', 'Test', 'square-dot'],\n",
        "    [X_test, y_test, '1', 'Test', 'circle-dot']\n",
        "]"
      ]
    },
    {
      "cell_type": "code",
      "execution_count": null,
      "metadata": {
        "id": "u8mOv8ut9K8g"
      },
      "outputs": [],
      "source": [
        "fig = go.Figure(data=[\n",
        "    go.Scatter(\n",
        "        x=X[y==label, 0], y=X[y==label, 1],\n",
        "        name=f'{split} Split, Label {label}',\n",
        "        mode='markers', marker_symbol=marker\n",
        "    )\n",
        "    for X, y, label, split, marker in trace_specs\n",
        "])\n",
        "fig.update_traces(\n",
        "    marker_size=12, marker_line_width=1.5,\n",
        "    marker_color=\"lightyellow\"\n",
        ")\n",
        "fig.show()"
      ]
    },
    {
      "cell_type": "code",
      "execution_count": null,
      "metadata": {
        "id": "bOacI-Wv59GJ"
      },
      "outputs": [],
      "source": [
        "accuracy = str(round(knn_class.score(X_test,y_test) * 100, 2))+\"%\"\n"
      ]
    },
    {
      "cell_type": "code",
      "execution_count": null,
      "metadata": {
        "id": "Dze4QKsB6S3z"
      },
      "outputs": [],
      "source": [
        "print(accuracy)"
      ]
    },
    {
      "cell_type": "code",
      "source": [
        "scaler = StandardScaler()\n",
        "scaler.fit(X_train)\n",
        "X_train = scaler.transform(X_train)\n",
        "X_test = scaler.transform(X_test)"
      ],
      "metadata": {
        "id": "z87-g8kL0_sb"
      },
      "execution_count": null,
      "outputs": []
    },
    {
      "cell_type": "code",
      "source": [
        "clfSVM = svm.SVC(gamma='auto',     probability=True)"
      ],
      "metadata": {
        "id": "wH9UQLU7bhiE"
      },
      "execution_count": 24,
      "outputs": []
    },
    {
      "cell_type": "code",
      "source": [
        "cv_result = cross_val_score(clfSVM, apacheAdmit, apacheAdmit['actualhospitalmortality'], cv=10, scoring=\"accuracy\")\n",
        "\n",
        "#Retorna a acurácia em porcentagem do nosso modelo\n",
        "print(\"Acurácia com cross validation:\", cv_result.mean()*100)"
      ],
      "metadata": {
        "colab": {
          "base_uri": "https://localhost:8080/"
        },
        "id": "aY-X8L_M3hXH",
        "outputId": "72a7329b-7adc-4b69-a952-15a5e06fec37"
      },
      "execution_count": 25,
      "outputs": [
        {
          "output_type": "stream",
          "name": "stdout",
          "text": [
            "Acurácia com cross validation: 87.02614379084969\n"
          ]
        }
      ]
    },
    {
      "cell_type": "code",
      "source": [
        "clfSVM.fit(apacheAdmit, apacheAdmit['actualhospitalmortality'])"
      ],
      "metadata": {
        "colab": {
          "base_uri": "https://localhost:8080/"
        },
        "id": "kIynZfgM8EAt",
        "outputId": "425f51cb-a316-4d1e-fde8-697d9f1803a2"
      },
      "execution_count": 26,
      "outputs": [
        {
          "output_type": "execute_result",
          "data": {
            "text/plain": [
              "SVC(gamma='auto', probability=True)"
            ]
          },
          "metadata": {},
          "execution_count": 26
        }
      ]
    },
    {
      "cell_type": "code",
      "source": [
        "clfSVM.fit(X_train, y_train)"
      ],
      "metadata": {
        "colab": {
          "base_uri": "https://localhost:8080/"
        },
        "id": "o687wFkrbamD",
        "outputId": "353e620d-c337-4f6b-c07b-770c16cf1fb9"
      },
      "execution_count": 27,
      "outputs": [
        {
          "output_type": "execute_result",
          "data": {
            "text/plain": [
              "SVC(gamma='auto', probability=True)"
            ]
          },
          "metadata": {},
          "execution_count": 27
        }
      ]
    },
    {
      "cell_type": "code",
      "source": [
        "y_predSVM = clfSVM.predict(X_test)"
      ],
      "metadata": {
        "id": "QWvIS-twblG0"
      },
      "execution_count": 28,
      "outputs": []
    },
    {
      "cell_type": "code",
      "source": [
        "classifiersvm = metrics.RocCurveDisplay.from_estimator(clfSVM, X_test, y_test)\n"
      ],
      "metadata": {
        "id": "Z25X37iafsJP"
      },
      "execution_count": null,
      "outputs": []
    },
    {
      "cell_type": "code",
      "source": [
        "X, y = make_blobs(n_samples=150, centers=2,\n",
        "                  random_state=50, cluster_std=0.60)"
      ],
      "metadata": {
        "id": "H6wYhjgAzUUw"
      },
      "execution_count": 30,
      "outputs": []
    },
    {
      "cell_type": "code",
      "source": [
        "\n",
        "def plot_svc_decision_function(model, ax=None, plot_support=True):\n",
        "    \"\"\"Plot the decision function for a 2D SVC\"\"\"\n",
        "    if ax is None:\n",
        "        ax = plt.gca()\n",
        "    xlim = ax.get_xlim()\n",
        "    ylim = ax.get_ylim()\n",
        "    \n",
        "    # create grid to evaluate model\n",
        "    x = np.linspace(xlim[0], xlim[1], 30)\n",
        "    y = np.linspace(ylim[0], ylim[1], 30)\n",
        "    Y, X = np.meshgrid(y, x)\n",
        "    xy = np.vstack([X.ravel(), Y.ravel()]).T\n",
        "    P = model.decision_function(xy).reshape(X.shape)\n",
        "    \n",
        "    # plot decision boundary and margins\n",
        "    ax.contour(X, Y, P, colors='k',\n",
        "               levels=[-1, 0, 1], alpha=0.5,\n",
        "               linestyles=['--', '-', '--'])\n",
        "    \n",
        "    # plot support vectors\n",
        "    if plot_support:\n",
        "        ax.scatter(model.support_vectors_[:, 0],\n",
        "                   model.support_vectors_[:, 1],\n",
        "                   s=300, linewidth=1, facecolors='none');\n",
        "    ax.set_xlim(xlim)\n",
        "    ax.set_ylim(ylim)\n",
        "plt.scatter(X[:, 0], X[:, 1], c=y, s=50, cmap='autumn')\n",
        "plot_svc_decision_function(clfSVM)\n"
      ],
      "metadata": {
        "id": "_Ho3T_-Jf0Kx"
      },
      "execution_count": null,
      "outputs": []
    },
    {
      "cell_type": "code",
      "source": [
        "def plot_svm(N=10, ax=None):\n",
        "    X, y = make_blobs(n_samples=200, centers=2,\n",
        "                      random_state=0, cluster_std=0.60)\n",
        "    X = X[:N]\n",
        "    y = y[:N]\n",
        "    model = svm.SVC(kernel='linear', C=1E10)\n",
        "    model.fit(X, y)\n",
        "    \n",
        "    ax = ax or plt.gca()\n",
        "    ax.scatter(X[:, 0], X[:, 1], c=y, s=50, cmap='autumn')\n",
        "    ax.set_xlim(-1, 4)\n",
        "    ax.set_ylim(-1, 6)\n",
        "    plot_svc_decision_function(model, ax)\n",
        "\n",
        "fig, ax = plt.subplots(1, 2, figsize=(16, 6))\n",
        "fig.subplots_adjust(left=0.0625, right=0.95, wspace=0.1)\n",
        "for axi, N in zip(ax, [100, 177]):\n",
        "    plot_svm(N, axi)\n",
        "    axi.set_title('N = {0}'.format(N))"
      ],
      "metadata": {
        "id": "wuYMCAXevpzx",
        "colab": {
          "base_uri": "https://localhost:8080/",
          "height": 318
        },
        "outputId": "871dde3e-be28-4631-958f-0a844b22a3b5"
      },
      "execution_count": 33,
      "outputs": [
        {
          "output_type": "display_data",
          "data": {
            "text/plain": [
              "<Figure size 1152x432 with 2 Axes>"
            ],
            "image/png": "[encoded data removed]"
          },
          "metadata": {
            "needs_background": "light"
          }
        }
      ]
    },
    {
      "cell_type": "code",
      "source": [
        "# plot_confusion_matrix(clfSVM,X_test, y_test)\n",
        "metrics.ConfusionMatrixDisplay.from_predictions(y_test, y_predSVM)\n",
        "\n",
        "plt.show()\n",
        "# print(classification_report(y_test,y_predSVM))"
      ],
      "metadata": {
        "id": "XkQeInxLkQxh",
        "colab": {
          "base_uri": "https://localhost:8080/",
          "height": 279
        },
        "outputId": "de65439f-57db-41b7-f5d6-b7ce36428d09"
      },
      "execution_count": 34,
      "outputs": [
        {
          "output_type": "display_data",
          "data": {
            "text/plain": [
              "<Figure size 432x288 with 2 Axes>"
            ],
            "image/png": "[encoded data removed]"
          },
          "metadata": {
            "needs_background": "light"
          }
        }
      ]
    },
    {
      "cell_type": "code",
      "source": [
        "disp = metrics.plot_roc_curve(logistic_regression,X_test,y_test)\n",
        "metrics.plot_roc_curve(knn_class,X_test,y_test,ax=disp.ax_)\n",
        "metrics.plot_roc_curve(clfSVM,X_test,y_test, ax=disp.ax_)"
      ],
      "metadata": {
        "colab": {
          "base_uri": "https://localhost:8080/",
          "height": 460
        },
        "id": "bjhmX91lVD2m",
        "outputId": "3c5942c3-a123-4c83-93ce-f7db49e1c5cb"
      },
      "execution_count": 35,
      "outputs": [
        {
          "output_type": "stream",
          "name": "stderr",
          "text": [
            "/usr/local/lib/python3.7/dist-packages/sklearn/utils/deprecation.py:87: FutureWarning: Function plot_roc_curve is deprecated; Function :func:`plot_roc_curve` is deprecated in 1.0 and will be removed in 1.2. Use one of the class methods: :meth:`sklearn.metric.RocCurveDisplay.from_predictions` or :meth:`sklearn.metric.RocCurveDisplay.from_estimator`.\n",
            "  warnings.warn(msg, category=FutureWarning)\n",
            "/usr/local/lib/python3.7/dist-packages/sklearn/base.py:451: UserWarning: X does not have valid feature names, but LogisticRegression was fitted with feature names\n",
            "  \"X does not have valid feature names, but\"\n",
            "/usr/local/lib/python3.7/dist-packages/sklearn/utils/deprecation.py:87: FutureWarning: Function plot_roc_curve is deprecated; Function :func:`plot_roc_curve` is deprecated in 1.0 and will be removed in 1.2. Use one of the class methods: :meth:`sklearn.metric.RocCurveDisplay.from_predictions` or :meth:`sklearn.metric.RocCurveDisplay.from_estimator`.\n",
            "  warnings.warn(msg, category=FutureWarning)\n",
            "/usr/local/lib/python3.7/dist-packages/sklearn/utils/deprecation.py:87: FutureWarning: Function plot_roc_curve is deprecated; Function :func:`plot_roc_curve` is deprecated in 1.0 and will be removed in 1.2. Use one of the class methods: :meth:`sklearn.metric.RocCurveDisplay.from_predictions` or :meth:`sklearn.metric.RocCurveDisplay.from_estimator`.\n",
            "  warnings.warn(msg, category=FutureWarning)\n"
          ]
        },
        {
          "output_type": "execute_result",
          "data": {
            "text/plain": [
              "<sklearn.metrics._plot.roc_curve.RocCurveDisplay at 0x7fbbb45e1c10>"
            ]
          },
          "metadata": {},
          "execution_count": 35
        },
        {
          "output_type": "display_data",
          "data": {
            "text/plain": [
              "<Figure size 432x288 with 1 Axes>"
            ],
            "image/png": "[encoded data removed]"
          },
          "metadata": {
            "needs_background": "light"
          }
        }
      ]
    }
  ],
  "metadata": {
    "colab": {
      "collapsed_sections": [],
      "name": "Visualizacao de dados",
      "provenance": [],
      "include_colab_link": true
    },
    "kernelspec": {
      "display_name": "Python 3",
      "name": "python3"
    },
    "language_info": {
      "name": "python"
    }
  },
  "nbformat": 4,
  "nbformat_minor": 0
}