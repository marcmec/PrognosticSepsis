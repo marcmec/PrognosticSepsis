{
  "cells": [
    {
      "cell_type": "markdown",
      "metadata": {
        "id": "view-in-github",
        "colab_type": "text"
      },
      "source": [
        "<a href=\"https://colab.research.google.com/github/marcmec/PrognosticSepsis/blob/main/Visualizacao_de_dados.ipynb\" target=\"_parent\"><img src=\"https://colab.research.google.com/assets/colab-badge.svg\" alt=\"Open In Colab\"/></a>"
      ]
    },
    {
      "cell_type": "code",
      "execution_count": null,
      "metadata": {
        "id": "X7ordwn8u1Zz"
      },
      "outputs": [],
      "source": [
        "import pandas as pd \n",
        "import io \n",
        "from google.colab import files \n",
        "import csv\n",
        "import plotly.graph_objects as go\n",
        "import numpy as np\n",
        "from sklearn.datasets import make_moons\n",
        "from sklearn.model_selection import train_test_split\n",
        "from sklearn.neighbors import KNeighborsClassifier\n",
        "import matplotlib.pyplot as plt\n",
        "from math import e\n",
        "from sklearn.linear_model import LogisticRegression\n",
        "from sklearn import metrics\n",
        "import seaborn as sn\n",
        "import plotly.express as px\n",
        "from sklearn.preprocessing import StandardScaler\n",
        "from sklearn import svm\n",
        "from sklearn.datasets import make_blobs, make_circles\n",
        "from sklearn.metrics import classification_report, confusion_matrix,plot_confusion_matrix\n",
        "from sklearn.model_selection import cross_val_score\n",
        "from sklearn.preprocessing import label_binarize\n"
      ]
    },
    {
      "cell_type": "code",
      "execution_count": null,
      "metadata": {
        "id": "ZCLSG9HiLX9o"
      },
      "outputs": [],
      "source": [
        "pd.set_option('display.max_rows', None)\n"
      ]
    },
    {
      "cell_type": "code",
      "execution_count": null,
      "metadata": {
        "id": "mJswYitGsMb1"
      },
      "outputs": [],
      "source": [
        "apacheAdmit = pd.read_csv('apacheMaisAdmitTime.csv')"
      ]
    },
    {
      "cell_type": "code",
      "execution_count": null,
      "metadata": {
        "id": "Nbm7QBMewgnw"
      },
      "outputs": [],
      "source": [
        "print(apacheAdmit)"
      ]
    },
    {
      "cell_type": "code",
      "execution_count": null,
      "metadata": {
        "id": "9itWyslmtVK9"
      },
      "outputs": [],
      "source": [
        "apacheAdmit = apacheAdmit.replace(to_replace = ['ALIVE','EXPIRED'],value = ['1','0'])"
      ]
    },
    {
      "cell_type": "code",
      "execution_count": null,
      "metadata": {
        "id": "hevt8X5FxUXb"
      },
      "outputs": [],
      "source": [
        "apacheAdmit = apacheAdmit.replace(to_replace = ['Male','Female'],value = ['1','0'])"
      ]
    },
    {
      "cell_type": "code",
      "source": [
        "apacheAdmit = apacheAdmit.replace(to_replace = ['> 89'],value = ['90'])"
      ],
      "metadata": {
        "id": "sDks4eJEl9WW"
      },
      "execution_count": null,
      "outputs": []
    },
    {
      "cell_type": "code",
      "source": [
        "print(apacheAdmit)"
      ],
      "metadata": {
        "id": "Hx5tYpQTehcN"
      },
      "execution_count": null,
      "outputs": []
    },
    {
      "cell_type": "code",
      "source": [
        "apacheAdmit.loc[apacheAdmit['hospitaldischargeoffset'] > 2880, 'hospitaldischargeoffset'] = '1'"
      ],
      "metadata": {
        "id": "QEafKOGgcKrn"
      },
      "execution_count": null,
      "outputs": []
    },
    {
      "cell_type": "code",
      "source": [
        "print(apacheAdmit)"
      ],
      "metadata": {
        "id": "8xeek9O-tRBq"
      },
      "execution_count": null,
      "outputs": []
    },
    {
      "cell_type": "code",
      "source": [
        "apacheAdmit.loc[(apacheAdmit['hospitaldischargeoffset'] != '1'), 'hospitaldischargeoffset'] = '0'"
      ],
      "metadata": {
        "id": "QwdJZ9ShdnDd"
      },
      "execution_count": null,
      "outputs": []
    },
    {
      "cell_type": "code",
      "execution_count": null,
      "metadata": {
        "id": "dkTYO7GxsiP3"
      },
      "outputs": [],
      "source": [
        "print(apacheAdmit)"
      ]
    },
    {
      "cell_type": "code",
      "execution_count": null,
      "metadata": {
        "id": "s_2b83kzbtrb"
      },
      "outputs": [],
      "source": [
        "txLogit = -32.6659 + np.log(apacheAdmit['acutephysiologyscore'] +20.5958)*7.3068"
      ]
    },
    {
      "cell_type": "code",
      "execution_count": null,
      "metadata": {
        "id": "8wcQrJ1NlFHM"
      },
      "outputs": [],
      "source": [
        "txMortality= e**txLogit/(1+e**txLogit)"
      ]
    },
    {
      "cell_type": "code",
      "execution_count": null,
      "metadata": {
        "id": "SIRLo5BncJMB"
      },
      "outputs": [],
      "source": [
        "print(txMortality)"
      ]
    },
    {
      "cell_type": "code",
      "execution_count": null,
      "metadata": {
        "id": "hSTeHE0Vtv1I"
      },
      "outputs": [],
      "source": [
        "apacheAdmit.insert(7,'txMortality',txMortality)"
      ]
    },
    {
      "cell_type": "code",
      "execution_count": null,
      "metadata": {
        "id": "c5kpqyFrwVoz"
      },
      "outputs": [],
      "source": [
        "print(apacheAdmit)"
      ]
    },
    {
      "cell_type": "code",
      "execution_count": null,
      "metadata": {
        "id": "88XlOsxFR6Hr"
      },
      "outputs": [],
      "source": [
        "# X = apacheAdmit[[\"actualhospitalmortality\",'txMortality']]\n",
        "# y = apacheAdmit['hospitaldischargeoffset']\n",
        "X = apacheAdmit[[\"hospitaldischargeoffset\",\"gender\",'txMortality']]\n",
        "y = apacheAdmit['actualhospitalmortality']\n",
        "# X = apacheAdmit[[\"hospitaldischargeoffset\",'txMortality']]\n",
        "# y = apacheAdmit['actualhospitalmortality']\n",
        "\n",
        "\n",
        "X_train, X_test, y_train, y_test = train_test_split(X, y, test_size=0.3)"
      ]
    },
    {
      "cell_type": "code",
      "execution_count": null,
      "metadata": {
        "colab": {
          "base_uri": "https://localhost:8080/"
        },
        "id": "lZmgkttDSkQM",
        "outputId": "5a4a4e2d-d8e8-4264-b102-b9bbdb98db9a"
      },
      "outputs": [
        {
          "output_type": "execute_result",
          "data": {
            "text/plain": [
              "LogisticRegression()"
            ]
          },
          "metadata": {},
          "execution_count": 144
        }
      ],
      "source": [
        "logistic_regression= LogisticRegression()\n",
        "logistic_regression.fit(X_train,y_train)"
      ]
    },
    {
      "cell_type": "code",
      "execution_count": null,
      "metadata": {
        "id": "OgJmSzflVkfY"
      },
      "outputs": [],
      "source": [
        "logistic_regression= LogisticRegression()\n",
        "logistic_regression.fit(X_train,y_train)\n",
        "y_pred=logistic_regression.predict(X_test)"
      ]
    },
    {
      "cell_type": "code",
      "source": [
        "plot_confusion_matrix(logistic_regression, X_test, y_test)  \n",
        "plt.show()"
      ],
      "metadata": {
        "colab": {
          "base_uri": "https://localhost:8080/",
          "height": 335
        },
        "id": "kXrOf2fC1HIF",
        "outputId": "aa179025-83ae-4f1f-d60b-7925bf1ec4ca"
      },
      "execution_count": null,
      "outputs": [
        {
          "output_type": "stream",
          "name": "stderr",
          "text": [
            "/usr/local/lib/python3.7/dist-packages/sklearn/utils/deprecation.py:87: FutureWarning: Function plot_confusion_matrix is deprecated; Function `plot_confusion_matrix` is deprecated in 1.0 and will be removed in 1.2. Use one of the class methods: ConfusionMatrixDisplay.from_predictions or ConfusionMatrixDisplay.from_estimator.\n",
            "  warnings.warn(msg, category=FutureWarning)\n"
          ]
        },
        {
          "output_type": "display_data",
          "data": {
            "text/plain": [
              "<Figure size 432x288 with 2 Axes>"
            ],
            "image/png": "[encoded data removed]"
          },
          "metadata": {
            "needs_background": "light"
          }
        }
      ]
    },
    {
      "cell_type": "code",
      "execution_count": null,
      "metadata": {
        "id": "pVkq0gYbVt7B"
      },
      "outputs": [],
      "source": [
        "print('Accuracy: ',metrics.accuracy_score(y_test, y_pred))\n",
        "plt.show()"
      ]
    },
    {
      "cell_type": "code",
      "source": [
        "logistic_regression.score(X,y)"
      ],
      "metadata": {
        "id": "Py5ASU6Spy94"
      },
      "execution_count": null,
      "outputs": []
    },
    {
      "cell_type": "code",
      "execution_count": null,
      "metadata": {
        "id": "WzmSg8og3fS4"
      },
      "outputs": [],
      "source": [
        "scaler = StandardScaler()\n",
        "scaler.fit(X_train)\n"
      ]
    },
    {
      "cell_type": "code",
      "execution_count": null,
      "metadata": {
        "id": "ZptvF6Sd3cM_"
      },
      "outputs": [],
      "source": [
        "X_train = scaler.transform(X_train)\n",
        "X_test = scaler.transform(X_test)"
      ]
    },
    {
      "cell_type": "code",
      "execution_count": null,
      "metadata": {
        "id": "q0rjCncC3m7X"
      },
      "outputs": [],
      "source": [
        "classifier = KNeighborsClassifier(n_neighbors=3)\n",
        "classifier.fit(X_train, y_train)"
      ]
    },
    {
      "cell_type": "code",
      "execution_count": null,
      "metadata": {
        "id": "zE0laBrN3pw-"
      },
      "outputs": [],
      "source": [
        "y_pred = classifier.predict(X_test)"
      ]
    },
    {
      "cell_type": "code",
      "source": [
        "print(y_pred)"
      ],
      "metadata": {
        "id": "QnKMGsa9ma61"
      },
      "execution_count": null,
      "outputs": []
    },
    {
      "cell_type": "code",
      "source": [
        "classifier.score(X,y)"
      ],
      "metadata": {
        "id": "F_goAehAUniR"
      },
      "execution_count": null,
      "outputs": []
    },
    {
      "cell_type": "code",
      "execution_count": null,
      "metadata": {
        "id": "Aqqevd7o3tVR"
      },
      "outputs": [],
      "source": [
        "plot_confusion_matrix(classifier, X_test, y_test)  \n",
        "plt.show()\n",
        "print(classification_report(y_test, y_pred))"
      ]
    },
    {
      "cell_type": "code",
      "execution_count": null,
      "metadata": {
        "id": "gfQIiS0U9SB6"
      },
      "outputs": [],
      "source": [
        "trace_specs = [\n",
        "    [X_train, y_train, '0', 'Train', 'square'],\n",
        "    [X_train, y_train, '1', 'Train', 'circle'],\n",
        "    [X_test, y_test, '0', 'Test', 'square-dot'],\n",
        "    [X_test, y_test, '1', 'Test', 'circle-dot']\n",
        "]"
      ]
    },
    {
      "cell_type": "code",
      "execution_count": null,
      "metadata": {
        "id": "u8mOv8ut9K8g"
      },
      "outputs": [],
      "source": [
        "fig = go.Figure(data=[\n",
        "    go.Scatter(\n",
        "        x=X[y==label, 0], y=X[y==label, 1],\n",
        "        name=f'{split} Split, Label {label}',\n",
        "        mode='markers', marker_symbol=marker\n",
        "    )\n",
        "    for X, y, label, split, marker in trace_specs\n",
        "])\n",
        "fig.update_traces(\n",
        "    marker_size=12, marker_line_width=1.5,\n",
        "    marker_color=\"lightyellow\"\n",
        ")\n",
        "fig.show()"
      ]
    },
    {
      "cell_type": "code",
      "execution_count": null,
      "metadata": {
        "id": "bOacI-Wv59GJ"
      },
      "outputs": [],
      "source": [
        "accuracy = str(round(classifier.score(X_test,y_test) * 100, 2))+\"%\"\n"
      ]
    },
    {
      "cell_type": "code",
      "execution_count": null,
      "metadata": {
        "id": "Dze4QKsB6S3z"
      },
      "outputs": [],
      "source": [
        "print(accuracy)"
      ]
    },
    {
      "cell_type": "code",
      "source": [
        "scaler = StandardScaler()\n",
        "scaler.fit(X_train)\n",
        "X_train = scaler.transform(X_train)\n",
        "X_test = scaler.transform(X_test)"
      ],
      "metadata": {
        "id": "z87-g8kL0_sb"
      },
      "execution_count": null,
      "outputs": []
    },
    {
      "cell_type": "code",
      "source": [
        "clfSVM = svm.SVC(gamma='auto',     probability=True\n",
        ")"
      ],
      "metadata": {
        "id": "wH9UQLU7bhiE"
      },
      "execution_count": null,
      "outputs": []
    },
    {
      "cell_type": "code",
      "source": [
        ""
      ],
      "metadata": {
        "id": "Glvjj16F3heL"
      },
      "execution_count": null,
      "outputs": []
    },
    {
      "cell_type": "code",
      "source": [
        "cv_result = cross_val_score(clfSVM, apacheAdmit, apacheAdmit['actualhospitalmortality'], cv=10, scoring=\"accuracy\")\n",
        "\n",
        "#Retorna a acurácia em porcentagem do nosso modelo\n",
        "print(\"Acurácia com cross validation:\", cv_result.mean()*100)"
      ],
      "metadata": {
        "colab": {
          "base_uri": "https://localhost:8080/"
        },
        "id": "aY-X8L_M3hXH",
        "outputId": "7bd122dc-f80a-4825-8bfa-57e22ad58035"
      },
      "execution_count": null,
      "outputs": [
        {
          "output_type": "stream",
          "name": "stdout",
          "text": [
            "Acurácia com cross validation: 87.02614379084969\n"
          ]
        }
      ]
    },
    {
      "cell_type": "code",
      "source": [
        "clfSVM.fit(apacheAdmit, apacheAdmit['actualhospitalmortality'])"
      ],
      "metadata": {
        "colab": {
          "base_uri": "https://localhost:8080/"
        },
        "id": "kIynZfgM8EAt",
        "outputId": "6bffebb5-1eaf-4a56-f4cc-38527c3cad06"
      },
      "execution_count": null,
      "outputs": [
        {
          "output_type": "execute_result",
          "data": {
            "text/plain": [
              "SVC(gamma='auto', probability=True)"
            ]
          },
          "metadata": {},
          "execution_count": 156
        }
      ]
    },
    {
      "cell_type": "code",
      "source": [
        "clfSVM.fit(X_train, y_train)"
      ],
      "metadata": {
        "colab": {
          "base_uri": "https://localhost:8080/"
        },
        "id": "o687wFkrbamD",
        "outputId": "170c9ed3-6eda-4947-faa6-1955fbad7bd2"
      },
      "execution_count": null,
      "outputs": [
        {
          "output_type": "execute_result",
          "data": {
            "text/plain": [
              "SVC(gamma='auto', probability=True)"
            ]
          },
          "metadata": {},
          "execution_count": 157
        }
      ]
    },
    {
      "cell_type": "code",
      "source": [
        "y_predSVM = clfSVM.predict(X_test)"
      ],
      "metadata": {
        "id": "QWvIS-twblG0"
      },
      "execution_count": null,
      "outputs": []
    },
    {
      "cell_type": "code",
      "source": [
        "classifiersvm = metrics.RocCurveDisplay.from_estimator(clfSVM, X_test, y_test)\n"
      ],
      "metadata": {
        "id": "Z25X37iafsJP"
      },
      "execution_count": null,
      "outputs": []
    },
    {
      "cell_type": "code",
      "source": [
        "X, y = make_blobs(n_samples=150, centers=2,\n",
        "                  random_state=50, cluster_std=0.60)"
      ],
      "metadata": {
        "id": "H6wYhjgAzUUw"
      },
      "execution_count": null,
      "outputs": []
    },
    {
      "cell_type": "code",
      "source": [
        "\n",
        "def plot_svc_decision_function(model, ax=None, plot_support=True):\n",
        "    \"\"\"Plot the decision function for a 2D SVC\"\"\"\n",
        "    if ax is None:\n",
        "        ax = plt.gca()\n",
        "    xlim = ax.get_xlim()\n",
        "    ylim = ax.get_ylim()\n",
        "    \n",
        "    # create grid to evaluate model\n",
        "    x = np.linspace(xlim[0], xlim[1], 30)\n",
        "    y = np.linspace(ylim[0], ylim[1], 30)\n",
        "    Y, X = np.meshgrid(y, x)\n",
        "    xy = np.vstack([X.ravel(), Y.ravel()]).T\n",
        "    P = model.decision_function(xy).reshape(X.shape)\n",
        "    \n",
        "    # plot decision boundary and margins\n",
        "    ax.contour(X, Y, P, colors='k',\n",
        "               levels=[-1, 0, 1], alpha=0.5,\n",
        "               linestyles=['--', '-', '--'])\n",
        "    \n",
        "    # plot support vectors\n",
        "    if plot_support:\n",
        "        ax.scatter(model.support_vectors_[:, 0],\n",
        "                   model.support_vectors_[:, 1],\n",
        "                   s=300, linewidth=1, facecolors='none');\n",
        "    ax.set_xlim(xlim)\n",
        "    ax.set_ylim(ylim)\n",
        "plt.scatter(X[:, 0], X[:, 1], c=y, s=50, cmap='autumn')\n",
        "plot_svc_decision_function(clfSVM)\n"
      ],
      "metadata": {
        "id": "_Ho3T_-Jf0Kx"
      },
      "execution_count": null,
      "outputs": []
    },
    {
      "cell_type": "code",
      "source": [
        "def plot_svm(N=10, ax=None):\n",
        "    X, y = make_blobs(n_samples=200, centers=2,\n",
        "                      random_state=0, cluster_std=0.60)\n",
        "    X = X[:N]\n",
        "    y = y[:N]\n",
        "    model = svm.SVC(kernel='linear', C=1E10)\n",
        "    model.fit(X, y)\n",
        "    \n",
        "    ax = ax or plt.gca()\n",
        "    ax.scatter(X[:, 0], X[:, 1], c=y, s=50, cmap='autumn')\n",
        "    ax.set_xlim(-1, 4)\n",
        "    ax.set_ylim(-1, 6)\n",
        "    plot_svc_decision_function(model, ax)\n",
        "\n",
        "fig, ax = plt.subplots(1, 2, figsize=(16, 6))\n",
        "fig.subplots_adjust(left=0.0625, right=0.95, wspace=0.1)\n",
        "for axi, N in zip(ax, [100, 177]):\n",
        "    plot_svm(N, axi)\n",
        "    axi.set_title('N = {0}'.format(N))"
      ],
      "metadata": {
        "id": "wuYMCAXevpzx"
      },
      "execution_count": null,
      "outputs": []
    },
    {
      "cell_type": "code",
      "source": [
        "plot_confusion_matrix(clfSVM,X_test, y_test)\n",
        "\n",
        "plt.show()\n",
        "print(classification_report(y_test,y_predSVM))"
      ],
      "metadata": {
        "id": "XkQeInxLkQxh"
      },
      "execution_count": null,
      "outputs": []
    },
    {
      "cell_type": "code",
      "source": [
        "lw = 2\n",
        "plt.plot([0, 1], [0, 1], \"k--\", lw=lw)\n",
        "plt.xlim([0.0, 1.0])\n",
        "plt.ylim([0.0, 1.0])\n",
        "plt.xlabel(\"Falso Positivo\")\n",
        "plt.ylabel(\"Verdadeiro Positivo\")\n",
        "plt.title(\"Característica da Curva ROC para análise a eficiência de modelos preditivos\")\n",
        "plt.legend(loc=\"lower right\")\n",
        "plt.show()"
      ],
      "metadata": {
        "id": "eiwPFdTAxKGj"
      },
      "execution_count": null,
      "outputs": []
    }
  ],
  "metadata": {
    "colab": {
      "collapsed_sections": [],
      "name": "Visualizacao de dados",
      "provenance": [],
      "mount_file_id": "1qJYfMc740PquSTvqk3Yv-jATmcxZJcpE",
      "authorship_tag": "ABX9TyNTL2X/aEpEKmjqpZ78Ygaa",
      "include_colab_link": true
    },
    "kernelspec": {
      "display_name": "Python 3",
      "name": "python3"
    },
    "language_info": {
      "name": "python"
    }
  },
  "nbformat": 4,
  "nbformat_minor": 0
}